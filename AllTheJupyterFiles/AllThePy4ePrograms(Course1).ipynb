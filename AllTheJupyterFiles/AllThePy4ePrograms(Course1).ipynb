{
 "cells": [
  {
   "cell_type": "markdown",
   "id": "dd7d12dd-1bce-449d-a20c-6d501adc39d3",
   "metadata": {},
   "source": [
    "# First Course (Getting Started with Python)"
   ]
  },
  {
   "cell_type": "markdown",
   "id": "cc5ee176-af97-4393-8bf1-b48af457fdd8",
   "metadata": {},
   "source": [
    "## Module 2"
   ]
  },
  {
   "cell_type": "markdown",
   "id": "4192c540-d988-47a7-84a6-a5bac29c9f11",
   "metadata": {
    "jupyter": {
     "source_hidden": true
    }
   },
   "source": [
    "### Q: You can write any code you like in the window below. There are three files loaded and ready for you to open if you want to do file processing: \"mbox-short.txt\", \"romeo.txt\", and \"words.txt\"."
   ]
  },
  {
   "cell_type": "code",
   "execution_count": 2,
   "id": "129a1a8a-b400-43ac-bf1a-35443c689d0a",
   "metadata": {
    "collapsed": true,
    "jupyter": {
     "outputs_hidden": true,
     "source_hidden": true
    }
   },
   "outputs": [
    {
     "name": "stdout",
     "output_type": "stream",
     "text": [
      "This is my first program in python\n"
     ]
    }
   ],
   "source": [
    "print (\"This is my first program in python\")"
   ]
  },
  {
   "cell_type": "markdown",
   "id": "2669e807-c6b0-4aec-89e7-be2f4839d6ea",
   "metadata": {},
   "source": [
    "## Module 3"
   ]
  },
  {
   "cell_type": "markdown",
   "id": "9faeb817-4ef9-4b57-a980-b0d19c9a6c41",
   "metadata": {
    "jupyter": {
     "source_hidden": true
    }
   },
   "source": [
    "### Q: Write a program that uses a print function to say 'hello world' as shown in 'Desired Output'."
   ]
  },
  {
   "cell_type": "code",
   "execution_count": 5,
   "id": "172eab49-0d2f-4cab-a0b7-feb45c416433",
   "metadata": {
    "collapsed": true,
    "jupyter": {
     "outputs_hidden": true,
     "source_hidden": true
    }
   },
   "outputs": [
    {
     "name": "stdout",
     "output_type": "stream",
     "text": [
      "hello world\n"
     ]
    }
   ],
   "source": [
    "print (\"hello world\")"
   ]
  },
  {
   "cell_type": "markdown",
   "id": "4a939a3d-9a87-4a5b-a82c-e550a2385334",
   "metadata": {},
   "source": [
    "## Module 4 (2.2)"
   ]
  },
  {
   "cell_type": "markdown",
   "id": "a2306502-65f7-4798-aed8-86e8e877f048",
   "metadata": {
    "jupyter": {
     "source_hidden": true
    }
   },
   "source": [
    "### Q:  Write a program that uses input to prompt a user for their name and then welcomes them. Note that input will pop up a dialog box. Enter Sarah in the pop-up box when you are prompted so your output will match the desired output."
   ]
  },
  {
   "cell_type": "code",
   "execution_count": 3,
   "id": "7b552c99-9368-4ee3-a1d8-20e42729c2d2",
   "metadata": {
    "collapsed": true,
    "jupyter": {
     "outputs_hidden": true,
     "source_hidden": true
    }
   },
   "outputs": [
    {
     "name": "stdin",
     "output_type": "stream",
     "text": [
      "Enter your name Sarah\n"
     ]
    },
    {
     "name": "stdout",
     "output_type": "stream",
     "text": [
      "Hello Sarah\n"
     ]
    }
   ],
   "source": [
    "name = input(\"Enter your name\")\n",
    "print(\"Hello\",name)"
   ]
  },
  {
   "cell_type": "markdown",
   "id": "f1b8f67d-29c8-4ef2-8f86-f020971f3aa2",
   "metadata": {},
   "source": [
    "## Module 4 (2.3)"
   ]
  },
  {
   "cell_type": "markdown",
   "id": "6c45abb4-e4f2-45fb-bcdf-8f5e7cd48287",
   "metadata": {
    "jupyter": {
     "source_hidden": true
    }
   },
   "source": [
    "### Q: Write a program to prompt the user for hours and rate per hour using input to compute gross pay. Use 35 hours and a rate of 2.75 per hour to test the program (the pay should be 96.25). You should use input to read a string and float() to convert the string to a number. Do not worry about error checking or bad user data."
   ]
  },
  {
   "cell_type": "code",
   "execution_count": 4,
   "id": "01cf5681-7b80-42bf-8a5d-57635b272bb3",
   "metadata": {
    "collapsed": true,
    "jupyter": {
     "outputs_hidden": true,
     "source_hidden": true
    }
   },
   "outputs": [
    {
     "name": "stdin",
     "output_type": "stream",
     "text": [
      "Enter Hours: 35\n",
      "Enter Rate per Hour: 2.75\n"
     ]
    },
    {
     "name": "stdout",
     "output_type": "stream",
     "text": [
      "Pay: 96.25\n"
     ]
    }
   ],
   "source": [
    "hrs = input(\"Enter Hours:\")\n",
    "rate = input (\"Enter Rate per Hour:\")\n",
    "hrs= float(hrs)\n",
    "rate= float(rate)\n",
    "pay= hrs*rate\n",
    "print(\"Pay:\",pay)"
   ]
  },
  {
   "cell_type": "markdown",
   "id": "7fc7bfdf-927e-42d7-9a83-38134b38ebb5",
   "metadata": {},
   "source": [
    "## Module 5 (3.1)"
   ]
  },
  {
   "cell_type": "markdown",
   "id": "e5f7a887-0531-48fd-a3b3-77c6055b4563",
   "metadata": {
    "jupyter": {
     "source_hidden": true
    }
   },
   "source": [
    "### Q: Write a program to prompt the user for hours and rate per hour using input to compute gross pay. Pay the hourly rate for the hours up to 40 and 1.5 times the hourly rate for all hours worked above 40 hours. Use 45 hours and a rate of 10.50 per hour to test the program (the pay should be 498.75). You should use input to read a string and float() to convert the string to a number. Do not worry about error checking the user input - assume the user types numbers properly."
   ]
  },
  {
   "cell_type": "code",
   "execution_count": 1,
   "id": "a68181d4-ae84-4cc2-93d0-2fefac573bd8",
   "metadata": {
    "collapsed": true,
    "jupyter": {
     "outputs_hidden": true,
     "source_hidden": true
    }
   },
   "outputs": [
    {
     "name": "stdin",
     "output_type": "stream",
     "text": [
      "Enter Hours: 45\n",
      "Enter the hourly rate: 10.5\n"
     ]
    },
    {
     "name": "stdout",
     "output_type": "stream",
     "text": [
      "498.75\n"
     ]
    }
   ],
   "source": [
    "hrs = input(\"Enter Hours:\")\n",
    "h = float(hrs)\n",
    "rate = input(\"Enter the hourly rate:\")\n",
    "r = float(rate)\n",
    "if h > 40:\n",
    "    pay = (h-40)*r*1.5+40*r\n",
    "else:\n",
    "    pay = h*r\n",
    "print (pay)"
   ]
  },
  {
   "cell_type": "markdown",
   "id": "be8d2146-c469-451a-8edf-9a1c113943ec",
   "metadata": {},
   "source": [
    "## Module 5 (3.3)"
   ]
  },
  {
   "cell_type": "markdown",
   "id": "f2b76ab2-79e2-4a4d-8a22-ef9f4b61cfc0",
   "metadata": {
    "jupyter": {
     "source_hidden": true
    }
   },
   "source": [
    "### Q: Write a program to prompt for a score between 0.0 and 1.0. If the score is out of range, print an error. If the score is between 0.0 and 1.0, print a grade using the following table:\n",
    "Score Grade\n",
    ">= 0.9 A\n",
    ">= 0.8 B\n",
    ">= 0.7 C\n",
    ">= 0.6 D\n",
    "< 0.6 F\n",
    "If the user enters a value out of range, print a suitable error message and exit. For the test, enter a score of 0.85."
   ]
  },
  {
   "cell_type": "code",
   "execution_count": 11,
   "id": "1492ed43-0534-4b61-b4e5-b4a3f610061b",
   "metadata": {
    "collapsed": true,
    "jupyter": {
     "outputs_hidden": true,
     "source_hidden": true
    }
   },
   "outputs": [
    {
     "name": "stdin",
     "output_type": "stream",
     "text": [
      "Enter Score:  0.85\n"
     ]
    },
    {
     "name": "stdout",
     "output_type": "stream",
     "text": [
      "B\n"
     ]
    }
   ],
   "source": [
    "score = input(\"Enter Score: \")\n",
    "s = float(score)\n",
    "if s > 1:\n",
    "    print(\"Error Occured...\")\n",
    "elif s >= 0.9:\n",
    "    print(\"A\")\n",
    "elif s >= 0.8:\n",
    "     print(\"B\")\n",
    "elif s >= 0.7:\n",
    "     print(\"C\")\n",
    "elif s >= 0.6:\n",
    "     print(\"D\")\n",
    "elif 0< s < 0.6:\n",
    "    print(\"F\")"
   ]
  },
  {
   "cell_type": "markdown",
   "id": "45daabe4-6e77-455e-a062-012195433b8e",
   "metadata": {},
   "source": [
    "## Module 6 (4.6)"
   ]
  },
  {
   "cell_type": "markdown",
   "id": "ee4fb195-268d-46f0-8804-19f26f6f9ddd",
   "metadata": {
    "jupyter": {
     "source_hidden": true
    }
   },
   "source": [
    "### Q: Write a program to prompt the user for hours and rate per hour using input to compute gross pay. Pay should be the normal rate for hours up to 40 and time-and-a-half for the hourly rate for all hours worked above 40 hours. Put the logic to do the computation of pay in a function called computepay() and use the function to do the computation. The function should return a value. Use 45 hours and a rate of 10.50 per hour to test the program (the pay should be 498.75). You should use input to read a string and float() to convert the string to a number. Do not worry about error checking the user input unless you want to - you can assume the user types numbers properly. Do not name your variable sum or use the sum() function."
   ]
  },
  {
   "cell_type": "code",
   "execution_count": 12,
   "id": "b09b6def-87d9-4f8f-953d-f3d4db1882fc",
   "metadata": {
    "collapsed": true,
    "jupyter": {
     "outputs_hidden": true,
     "source_hidden": true
    }
   },
   "outputs": [
    {
     "name": "stdin",
     "output_type": "stream",
     "text": [
      "Enter Hours: 45\n",
      "Enter the hourly rate: 10.5\n"
     ]
    },
    {
     "name": "stdout",
     "output_type": "stream",
     "text": [
      "Pay 498.75\n"
     ]
    }
   ],
   "source": [
    "def computepay(h, r):\n",
    "    if h > 40:\n",
    "        pay = (h-40)*r*1.5+40*r\n",
    "    else:\n",
    "        pay = 40*r\n",
    "    return pay\n",
    "\n",
    "hrs = input(\"Enter Hours:\")\n",
    "h = float(hrs)\n",
    "rate = input(\"Enter the hourly rate:\")\n",
    "r = float(rate)\n",
    "p = computepay(h, r)\n",
    "print(\"Pay\", p)"
   ]
  },
  {
   "cell_type": "markdown",
   "id": "159975ca-8556-4c1f-925d-0975f249d23e",
   "metadata": {},
   "source": [
    "## Module 7 (5.2)"
   ]
  },
  {
   "cell_type": "markdown",
   "id": "ee3e29cf-19c7-4efc-83cd-2083c20924f2",
   "metadata": {
    "jupyter": {
     "source_hidden": true
    }
   },
   "source": [
    "### Q: Write a program that repeatedly prompts a user for integer numbers until the user enters 'done'. Once 'done' is entered, print out the largest and smallest of the numbers. If the user enters anything other than a valid number catch it with a try/except and put out an appropriate message and ignore the number. Enter 7, 2, bob, 10, and 4 and match the output below."
   ]
  },
  {
   "cell_type": "code",
   "execution_count": 13,
   "id": "bf1eb1b5-5d49-4e4f-8b17-8b98b13a4c5e",
   "metadata": {
    "collapsed": true,
    "jupyter": {
     "outputs_hidden": true,
     "source_hidden": true
    }
   },
   "outputs": [
    {
     "name": "stdin",
     "output_type": "stream",
     "text": [
      "Enter a number:  7\n",
      "Enter a number:  2\n",
      "Enter a number:  bob\n"
     ]
    },
    {
     "name": "stdout",
     "output_type": "stream",
     "text": [
      "Invalid input\n"
     ]
    },
    {
     "name": "stdin",
     "output_type": "stream",
     "text": [
      "Enter a number:  10\n",
      "Enter a number:  4\n",
      "Enter a number:  done\n"
     ]
    },
    {
     "name": "stdout",
     "output_type": "stream",
     "text": [
      "Maximum is 10\n",
      "Minimum is 2\n"
     ]
    }
   ],
   "source": [
    "largest = -1\n",
    "smallest = None\n",
    "while True:\n",
    "    num = input(\"Enter a number: \")\n",
    "    if num == \"done\":\n",
    "        break\n",
    "    try:\n",
    "        num = int(num)\n",
    "    except:\n",
    "        print(\"Invalid input\")\n",
    "        continue\n",
    "    if num > largest:\n",
    "        largest = num\n",
    "    elif smallest is None:\n",
    "        smallest = num\n",
    "    elif num < smallest:\n",
    "        smallest = num\n",
    "print(\"Maximum is\", largest)\n",
    "print(\"Minimum is\", smallest)"
   ]
  }
 ],
 "metadata": {
  "kernelspec": {
   "display_name": "Python 3 (ipykernel)",
   "language": "python",
   "name": "python3"
  },
  "language_info": {
   "codemirror_mode": {
    "name": "ipython",
    "version": 3
   },
   "file_extension": ".py",
   "mimetype": "text/x-python",
   "name": "python",
   "nbconvert_exporter": "python",
   "pygments_lexer": "ipython3",
   "version": "3.13.3"
  }
 },
 "nbformat": 4,
 "nbformat_minor": 5
}
