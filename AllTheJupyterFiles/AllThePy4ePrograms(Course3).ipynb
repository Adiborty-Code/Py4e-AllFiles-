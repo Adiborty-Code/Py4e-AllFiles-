{
 "cells": [
  {
   "cell_type": "markdown",
   "id": "0745e4dd-aa91-440c-9654-039cc48adcf2",
   "metadata": {},
   "source": [
    "# Third Course (Python to access web data)"
   ]
  },
  {
   "cell_type": "markdown",
   "id": "eab83f99-42d0-481a-9eca-43496709625c",
   "metadata": {},
   "source": [
    "## Module 2 (Cheat Sheet)"
   ]
  },
  {
   "cell_type": "code",
   "execution_count": null,
   "id": "6acdd8b5-f331-4093-b201-3137dd8eced3",
   "metadata": {
    "jupyter": {
     "source_hidden": true
    }
   },
   "outputs": [],
   "source": [
    "Python Regular Expression Quick Guide\n",
    "\n",
    "^        Matches the beginning of a line\n",
    "$        Matches the end of the line\n",
    ".        Matches any character\n",
    "\\s       Matches whitespace\n",
    "\\S       Matches any non-whitespace character\n",
    "*        Repeats a character zero or more times\n",
    "*?       Repeats a character zero or more times \n",
    "         (non-greedy)\n",
    "+        Repeats a character one or more times\n",
    "+?       Repeats a character one or more times \n",
    "         (non-greedy)\n",
    "[aeiou]  Matches a single character in the listed set\n",
    "[^XYZ]   Matches a single character not in the listed set\n",
    "[a-z0-9] The set of characters can include a range\n",
    "(        Indicates where string extraction is to start\n",
    ")        Indicates where string extraction is to end"
   ]
  },
  {
   "cell_type": "markdown",
   "id": "ebb7325d-a3c3-47b3-9349-835672b0c0b5",
   "metadata": {},
   "source": [
    "## Module 2 "
   ]
  },
  {
   "cell_type": "markdown",
   "id": "492b3e4b-ef47-4c97-a44e-7acd13a760b0",
   "metadata": {
    "jupyter": {
     "source_hidden": true
    }
   },
   "source": [
    "### Q: Finding Numbers in a Haystack\n",
    "\n",
    "In this assignment you will read through and parse a file with text and numbers. You will extract all the numbers in the file and compute the sum of the numbers.\n",
    "\n",
    "Data Files\n",
    "We provide two files for this assignment. One is a sample file where we give you the sum for your testing and the other is the actual data you need to process for the assignment.\n",
    "\n",
    "Sample data: http://py4e-data.dr-chuck.net/regex_sum_42.txt (There are 90 values with a sum=445833)\n",
    "Actual data: http://py4e-data.dr-chuck.net/regex_sum_2217407.txt (There are 105 values and the sum ends with 992)\n",
    "These links open in a new window. Make sure to save the file into the same folder as you will be writing your Python program. Note: Each student will have a distinct data file for the assignment - so only use your own data file for analysis.\n",
    "Data Format\n",
    "The file contains much of the text from the introduction of the textbook except that random numbers are inserted throughout the text. Here is a sample of the output you might see:\n",
    "\n",
    "Why should you learn to write programs? 7746\n",
    "12 1929 8827\n",
    "Writing programs (or programming) is a very creative \n",
    "7 and rewarding activity.  You can write programs for \n",
    "many reasons, ranging from making your living to solving\n",
    "8837 a difficult data analysis problem to having fun to helping 128\n",
    "someone else solve a problem.  This book assumes that \n",
    "everyone needs to know how to program ...\n",
    "\n",
    "The sum for the sample text above is 27486. The numbers can appear anywhere in the line. There can be any number of numbers in each line (including none).\n",
    "\n",
    "Handling The Data\n",
    "The basic outline of this problem is to read the file, look for integers using the re.findall(), looking for a regular expression of '[0-9]+' and then converting the extracted strings to integers and summing up the integers."
   ]
  },
  {
   "cell_type": "code",
   "execution_count": 3,
   "id": "57748a88-6903-4957-bd3e-f1d1dbb28146",
   "metadata": {
    "collapsed": true,
    "jupyter": {
     "outputs_hidden": true,
     "source_hidden": true
    }
   },
   "outputs": [
    {
     "name": "stdout",
     "output_type": "stream",
     "text": [
      "514992\n"
     ]
    }
   ],
   "source": [
    "import re\n",
    "handle = open('Course 3 Module 2.txt')\n",
    "sum = 0\n",
    "nums = list()\n",
    "for line in handle:\n",
    "    line = line.rstrip()\n",
    "    nums = re.findall('[0-9]+',line)\n",
    "    for num in nums:\n",
    "        n = int(num)\n",
    "        sum = sum + n\n",
    "print (sum)"
   ]
  },
  {
   "cell_type": "markdown",
   "id": "10e3e1b9-b763-40d4-9e33-a97c9b4d4380",
   "metadata": {},
   "source": [
    "## Module 3"
   ]
  },
  {
   "cell_type": "markdown",
   "id": "9c556004-b81f-40cd-9db9-f996b824baa9",
   "metadata": {
    "jupyter": {
     "source_hidden": true
    }
   },
   "source": [
    "### Q: Exploring the HyperText Transport Protocol\n",
    "\n",
    "You are to retrieve the following document using the HTTP protocol in a way that you can examine the HTTP Response headers.\n",
    "\n",
    "http://data.pr4e.org/intro-short.txt\n",
    "There are three ways that you might retrieve this web page and look at the response headers:\n",
    "\n",
    "Preferred: Modify the socket1.py program to retrieve the above URL and print out the headers and data. Make sure to change the code to retrieve the above URL - the values are different for each URL.\n",
    "\n",
    "Open the URL in a web browser with a developer console or FireBug and manually examine the headers that are returned."
   ]
  },
  {
   "cell_type": "code",
   "execution_count": 1,
   "id": "c35c3b6c-73fa-437d-b176-74c1882cd627",
   "metadata": {
    "collapsed": true,
    "jupyter": {
     "outputs_hidden": true,
     "source_hidden": true
    },
    "scrolled": true
   },
   "outputs": [
    {
     "name": "stdout",
     "output_type": "stream",
     "text": [
      "HTTP/1.1 200 OK\n",
      "Date: Sat, 03 May 2025 19:58:39 GMT\n",
      "Server: Apache/2.4.52 (Ubuntu)\n",
      "Last-Modified: Sat, 13 May 2017 11:22:22 GMT\n",
      "ETag: \"1d3-54f6609240717\"\n",
      "Accept-Ranges: bytes\n",
      "Content-Length: 467\n",
      "Cache-Control: max-age=0, no-cache, no-store, must-revalidate\n",
      "Pragma: no-cache\n",
      "Expires: Wed, 11 Jan 1984 05:00:00 GMT\n",
      "Connection: close\n",
      "Content-Type: text/plain\n",
      "\n",
      "Why should you learn to write programs?\n",
      "\n",
      "Writing programs (or programming) is a very creative \n",
      "and rewarding activity.  You can write programs for \n",
      "many reasons, ranging from making your living to solving\n",
      "a difficult data analysis problem to having fun to helping\n",
      "someone else solve a problem.  This book assumes that \n",
      "everyone needs to know how to program, and that once \n",
      "you know how to program you will figure out what you want \n",
      "to do with your newfound skills.  \n"
     ]
    }
   ],
   "source": [
    "import socket\n",
    "\n",
    "mysock = socket.socket(socket.AF_INET, socket.SOCK_STREAM)\n",
    "mysock.connect(('data.pr4e.org', 80))\n",
    "cmd = 'GET http://data.pr4e.org/intro-short.txt HTTP/1.0\\r\\n\\r\\n'.encode()\n",
    "mysock.send(cmd)\n",
    "\n",
    "while True:\n",
    "    data = mysock.recv(512)\n",
    "    if len(data) < 1:\n",
    "        break\n",
    "    print(data.decode(),end='')\n",
    "\n",
    "mysock.close()"
   ]
  },
  {
   "cell_type": "markdown",
   "id": "5e75512c-2e2d-4c19-b71d-256cd8055a98",
   "metadata": {},
   "source": [
    "## Module 4 (Assignment 1)"
   ]
  },
  {
   "cell_type": "markdown",
   "id": "c9319e29-43c5-4403-a0ba-e38d0d1ed7a2",
   "metadata": {
    "jupyter": {
     "source_hidden": true
    }
   },
   "source": [
    "### Q:Scraping Numbers from HTML using BeautifulSoup In this assignment you will write a Python program similar to http://www.py4e.com/code3/urllink2.py. The program will use urllib to read the HTML from the data files below, and parse the data, extracting numbers and compute the sum of the numbers in the file.\n",
    "\n",
    "We provide two files for this assignment. One is a sample file where we give you the sum for your testing and the other is the actual data you need to process for the assignment.\n",
    "\n",
    "Sample data: http://py4e-data.dr-chuck.net/comments_42.html (Sum=2553)\n",
    "Actual data: http://py4e-data.dr-chuck.net/comments_2217409.html (Sum ends with 86)\n",
    "You do not need to save these files to your folder since your program will read the data directly from the URL. Note: Each student will have a distinct data url for the assignment - so only use your own data url for analysis.\n",
    "Data Format\n",
    "The file is a table of names and comment counts. You can ignore most of the data in the file except for lines like the following:\n",
    "\n",
    "<tr><td>Modu</td><td><span class=\"comments\">90</span></td></tr>\n",
    "<tr><td>Kenzie</td><td><span class=\"comments\">88</span></td></tr>\n",
    "<tr><td>Hubert</td><td><span class=\"comments\">87</span></td></tr>\n",
    "You are to find all the <span> tags in the file and pull out the numbers from the tag and sum the numbers.\n",
    "Look at the sample code provided. It shows how to find all of a certain kind of tag, loop through the tags and extract the various aspects of the tags.\n",
    "\n",
    "...\n",
    "# Retrieve all of the anchor tags\n",
    "tags = soup('a')\n",
    "for tag in tags:\n",
    "   print 'TAG:',tag\n",
    "   print 'URL:',tag.get('href', None)\n",
    "   print 'Contents:',tag.contents[0]\n",
    "   print 'Attrs:',tag.attrs\n",
    "You need to adjust this code to look for span tags and pull out the text content of the span tag, convert them to integers and add them up to complete the assignment.\n",
    "Sample Execution\n",
    "\n",
    "\n",
    "$ python3 solution.py\n",
    "\n",
    "Enter - http://py4e-data.dr-chuck.net/comments_42.html\n",
    "\n",
    "Count 50\n",
    "\n",
    "Sum 2..."
   ]
  },
  {
   "cell_type": "code",
   "execution_count": 3,
   "id": "a64aa7aa-2645-48de-9244-32ba7af901d0",
   "metadata": {
    "collapsed": true,
    "jupyter": {
     "outputs_hidden": true,
     "source_hidden": true
    }
   },
   "outputs": [
    {
     "name": "stdin",
     "output_type": "stream",
     "text": [
      "Enter -  https://py4e-data.dr-chuck.net/comments_2217409.html\n"
     ]
    },
    {
     "name": "stdout",
     "output_type": "stream",
     "text": [
      "Count 50\n",
      "Sum 2286\n"
     ]
    }
   ],
   "source": [
    "from urllib.request import urlopen\n",
    "from bs4 import BeautifulSoup\n",
    "import ssl\n",
    "\n",
    "# Ignore SSL certificate errors\n",
    "ctx = ssl.create_default_context()\n",
    "ctx.check_hostname = False\n",
    "ctx.verify_mode = ssl.CERT_NONE\n",
    "\n",
    "url = input('Enter - ')\n",
    "html = urlopen(url, context=ctx).read()\n",
    "soup = BeautifulSoup(html, \"html.parser\")\n",
    "\n",
    "tags = soup('span')\n",
    "count = 0\n",
    "value = 0\n",
    "for tag in tags:\n",
    "    nums = tag.contents[0]\n",
    "    n = int(nums)\n",
    "    count = count + 1\n",
    "    value = value + n \n",
    "print('Count',count)\n",
    "print ('Sum',value)"
   ]
  },
  {
   "cell_type": "markdown",
   "id": "936e5e90-43bd-4d5c-96b0-6c7aa6ab60d2",
   "metadata": {},
   "source": [
    "## Module 4 (Assignment 2)"
   ]
  },
  {
   "cell_type": "markdown",
   "id": "e503d62a-f2ef-48e0-b1f2-9f3bf5befc14",
   "metadata": {
    "jupyter": {
     "source_hidden": true
    }
   },
   "source": [
    "### Q:Following Links in Python\n",
    "\n",
    "In this assignment you will write a Python program that expands on http://www.py4e.com/code3/urllinks.py. The program will use urllib to read the HTML from the data files below, extract the href= vaues from the anchor tags, scan for a tag that is in a particular position relative to the first name in the list, follow that link and repeat the process a number of times and report the last name you find.\n",
    "\n",
    "We provide two files for this assignment. One is a sample file where we give you the name for your testing and the other is the actual data you need to process for the assignment\n",
    "\n",
    "Sample problem: Start at http://py4e-data.dr-chuck.net/known_by_Fikret.html\n",
    "Find the link at position 3 (the first name is 1). Follow that link. Repeat this process 4 times. The answer is the last name that you retrieve.\n",
    "Sequence of names: Fikret Montgomery Mhairade Butchi Anayah\n",
    "Last name in sequence: Anayah\n",
    "Actual problem: Start at: http://py4e-data.dr-chuck.net/known_by_Darn.html\n",
    "Find the link at position 18 (the first name is 1). Follow that link. Repeat this process 7 times. The answer is the last name that you retrieve.\n",
    "Hint: The first character of the name of the last page that you will load is: K\n",
    "Strategy\n",
    "The web pages tweak the height between the links and hide the page after a few seconds to make it difficult for you to do the assignment without writing a Python program. But frankly with a little effort and patience you can overcome these attempts to make it a little harder to complete the assignment without writing a Python program. But that is not the point. The point is to write a clever Python program to solve the program.\n",
    "\n",
    "Sample execution\n",
    "\n",
    "Here is a sample execution of a solution:\n",
    "\n",
    "$ python3 solution.py\n",
    "Enter URL: http://py4e-data.dr-chuck.net/known_by_Fikret.html\n",
    "\n",
    "Enter count: 4\n",
    "\n",
    "Enter position: 3\n",
    "\n",
    "Retrieving: http://py4e-data.dr-chuck.net/known_by_Fikret.html\n",
    "\n",
    "Retrieving: http://py4e-data.dr-chuck.net/known_by_Montgomery.html\n",
    "\n",
    "Retrieving: http://py4e-data.dr-chuck.net/known_by_Mhairade.html\n",
    "\n",
    "Retrieving: http://py4e-data.dr-chuck.net/known_by_Butchi.html\n",
    "\n",
    "Retrieving: http://py4e-data.dr-chuck.net/known_by_Anayah.html\n",
    "\n",
    "The answer to the assignment for this execution is \"Anayah\"."
   ]
  },
  {
   "cell_type": "code",
   "execution_count": 3,
   "id": "e06da9fd-09e8-4b53-b0f8-81d0bf69f6f8",
   "metadata": {
    "collapsed": true,
    "jupyter": {
     "outputs_hidden": true,
     "source_hidden": true
    }
   },
   "outputs": [
    {
     "name": "stdin",
     "output_type": "stream",
     "text": [
      "Enter URL:  https://py4e-data.dr-chuck.net/known_by_Darn.html\n",
      "Enter count:  7\n",
      "Enter position:  18\n"
     ]
    },
    {
     "name": "stdout",
     "output_type": "stream",
     "text": [
      "Retrieving: http://py4e-data.dr-chuck.net/known_by_Ewen.html\n",
      "Retrieving: http://py4e-data.dr-chuck.net/known_by_Winnifred.html\n",
      "Retrieving: http://py4e-data.dr-chuck.net/known_by_Anifhe.html\n",
      "Retrieving: http://py4e-data.dr-chuck.net/known_by_Layla.html\n",
      "Retrieving: http://py4e-data.dr-chuck.net/known_by_Felicia.html\n",
      "Retrieving: http://py4e-data.dr-chuck.net/known_by_Eagann.html\n",
      "Retrieving: http://py4e-data.dr-chuck.net/known_by_Kieryn.html\n"
     ]
    }
   ],
   "source": [
    "import urllib.request, urllib.parse, urllib.error\n",
    "from bs4 import BeautifulSoup\n",
    "import ssl\n",
    "\n",
    "ctx = ssl.create_default_context()\n",
    "ctx.check_hostname = False\n",
    "ctx.verify_mode = ssl.CERT_NONE\n",
    "\n",
    "url = input('Enter URL: ')\n",
    "count = int(input('Enter count: '))\n",
    "position = int(input('Enter position: '))\n",
    "\n",
    "for i in range(count):\n",
    "    html = urllib.request.urlopen(url, context=ctx).read()\n",
    "    soup = BeautifulSoup(html, 'html.parser')\n",
    "    tags = soup('a')\n",
    "    \n",
    "    url = tags[position - 1].get('href', None)\n",
    "    print(f\"Retrieving: {url}\")"
   ]
  },
  {
   "cell_type": "markdown",
   "id": "abd55e2f-5245-4f6f-b496-645e4fdd18f8",
   "metadata": {},
   "source": [
    "## Module 5"
   ]
  },
  {
   "cell_type": "markdown",
   "id": "0d272dd9-5a5b-4588-9c4d-84181fc8c856",
   "metadata": {
    "jupyter": {
     "source_hidden": true
    }
   },
   "source": [
    "### Q:Extracting Data from XML\n",
    "\n",
    "In this assignment you will write a Python program somewhat similar to http://www.py4e.com/code3/xml3.py. The program will prompt for a URL, read the XML data from that URL using urllib and then parse and extract the comment counts from the XML data, compute the sum of the numbers in the file.\n",
    "\n",
    "We provide two files for this assignment. One is a sample file where we give you the sum for your testing and the other is the actual data you need to process for the assignment.\n",
    "\n",
    "Sample data: http://py4e-data.dr-chuck.net/comments_42.xml (Sum=2553)\n",
    "Actual data: http://py4e-data.dr-chuck.net/comments_2217411.xml (Sum ends with 23)\n",
    "You do not need to save these files to your folder since your program will read the data directly from the URL. Note: Each student will have a distinct data url for the assignment - so only use your own data url for analysis.\n",
    "Data Format and Approach\n",
    "The data consists of a number of names and comment counts in XML as follows:\n",
    "\n",
    "<comment>\n",
    "  <name>Matthias</name>\n",
    "  <count>97</count>\n",
    "</comment>\n",
    "You are to look through all the <comment> tags and find the <count> values sum the numbers. The closest sample code that shows how to parse XML is xml3.py.\n",
    "To make the code a little simpler, you can use an XPath selector string to look through the entire tree of XML for any tag named 'count' with the following line of code:\n",
    "\n",
    "counts = tree.findall('.//count')\n",
    "Take a look at the Python ElementTree documentation and look for the supported XPath syntax for details. You could also work from the top of the XML down to the comments node and then loop through the child nodes of the comments node.\n",
    "Sample Execution\n",
    "\n",
    "\n",
    "$ python3 solution.py\n",
    "Enter location: http://py4e-data.dr-chuck.net/comments_42.xml\n",
    "Retrieving http://py4e-data.dr-chuck.net/comments_42.xml\n",
    "Retrieved 4189 characters\n",
    "Count: 50\n",
    "Sum: 2..."
   ]
  },
  {
   "cell_type": "code",
   "execution_count": 15,
   "id": "eaae8e90-07a3-4e4c-ada6-7937bd58f24f",
   "metadata": {
    "collapsed": true,
    "jupyter": {
     "outputs_hidden": true,
     "source_hidden": true
    }
   },
   "outputs": [
    {
     "name": "stdin",
     "output_type": "stream",
     "text": [
      "Enter location:  https://py4e-data.dr-chuck.net/comments_2217411.xml\n"
     ]
    },
    {
     "name": "stdout",
     "output_type": "stream",
     "text": [
      "Retrieving https://py4e-data.dr-chuck.net/comments_2217411.xml\n",
      "Retrieved 4219 characters\n",
      "Count: 50\n",
      "Sum: 2623\n"
     ]
    }
   ],
   "source": [
    "import urllib.request\n",
    "import xml.etree.ElementTree as ET\n",
    "\n",
    "url = input('Enter location: ')\n",
    "if len(url) < 1 : \n",
    "    url = 'http://py4e-data.dr-chuck.net/comments_42.xml'\n",
    "\n",
    "print('Retrieving', url)\n",
    "uh = urllib.request.urlopen(url)\n",
    "data = uh.read()\n",
    "print('Retrieved',len(data),'characters')\n",
    "tree = ET.fromstring(data)\n",
    "\n",
    "counts = tree.findall('.//count')\n",
    "nums = list()\n",
    "for count in counts:\n",
    "    nums.append(int(count.text))\n",
    "\n",
    "print('Count:', len(nums))\n",
    "print('Sum:', sum(nums))"
   ]
  },
  {
   "cell_type": "markdown",
   "id": "3d9fa297-8ad6-41d5-9c05-1367a6bd2d6a",
   "metadata": {},
   "source": [
    "## Module 6 (Assignment 1)"
   ]
  },
  {
   "cell_type": "markdown",
   "id": "583ce87a-5249-4014-abd1-fc33086ae036",
   "metadata": {
    "jupyter": {
     "source_hidden": true
    }
   },
   "source": [
    "### Q:Extracting Data from JSON\n",
    "\n",
    "In this assignment you will write a Python program somewhat similar to http://www.py4e.com/code3/json2.py. The program will prompt for a URL, read the JSON data from that URL using urllib and then parse and extract the comment counts from the JSON data, compute the sum of the numbers in the file and enter the sum below:\n",
    "\n",
    "We provide two files for this assignment. One is a sample file where we give you the sum for your testing and the other is the actual data you need to process for the assignment.\n",
    "\n",
    "Sample data: http://py4e-data.dr-chuck.net/comments_42.json (Sum=2553)\n",
    "Actual data: http://py4e-data.dr-chuck.net/comments_2217412.json (Sum ends with 34)\n",
    "You do not need to save these files to your folder since your program will read the data directly from the URL. Note: Each student will have a distinct data url for the assignment - so only use your own data url for analysis.\n",
    "Data Format\n",
    "The data consists of a number of names and comment counts in JSON as follows:\n",
    "\n",
    "{\n",
    "  comments: [\n",
    "    {\n",
    "      name: \"Matthias\"\n",
    "      count: 97\n",
    "    },\n",
    "    {\n",
    "      name: \"Geomer\"\n",
    "      count: 97\n",
    "    }\n",
    "    ...\n",
    "  ]\n",
    "}\n",
    "The closest sample code that shows how to parse JSON and extract a list is json2.py. You might also want to look at xml3.py to see how to prompt for a URL and retrieve data from a URL.\n",
    "\n",
    "Sample Execution\n",
    "\n",
    "$ python3 solution.py\n",
    "Enter location: http://py4e-data.dr-chuck.net/comments_42.json\n",
    "Retrieving http://py4e-data.dr-chuck.net/comments_42.json\n",
    "Retrieved 2733 characters\n",
    "Count: 50\n",
    "Sum: 2..."
   ]
  },
  {
   "cell_type": "code",
   "execution_count": 2,
   "id": "685c936c-f7f9-4303-b646-7bf37f6c14f5",
   "metadata": {
    "collapsed": true,
    "jupyter": {
     "outputs_hidden": true,
     "source_hidden": true
    }
   },
   "outputs": [
    {
     "name": "stdin",
     "output_type": "stream",
     "text": [
      "Enter location:  https://py4e-data.dr-chuck.net/comments_2217412.json\n"
     ]
    },
    {
     "name": "stdout",
     "output_type": "stream",
     "text": [
      "Retrieving https://py4e-data.dr-chuck.net/comments_2217412.json\n",
      "Retrieved 2737 characters\n",
      "Count: 50\n",
      "Sum: 2334\n"
     ]
    }
   ],
   "source": [
    "import urllib.request\n",
    "import json\n",
    "\n",
    "url = input('Enter location: ')\n",
    "if len(url) < 1 : \n",
    "    url = 'http://py4e-data.dr-chuck.net/comments_42.xml'\n",
    "\n",
    "print('Retrieving', url)\n",
    "uh = urllib.request.urlopen(url)\n",
    "data = uh.read()\n",
    "print('Retrieved',len(data),'characters')\n",
    "\n",
    "info = json.loads(data)\n",
    "nums= list()\n",
    "for item in info['comments']:\n",
    "    nums.append(int(item['count']))\n",
    "print('Count:',len(nums))\n",
    "print('Sum:',sum(nums))"
   ]
  },
  {
   "cell_type": "markdown",
   "id": "84eb4292-f9f3-4188-9bbc-fc260973fb5b",
   "metadata": {},
   "source": [
    "## Module 6 (Assignment 2)"
   ]
  },
  {
   "cell_type": "markdown",
   "id": "c6a7484f-f6ed-4386-ae47-3b39f575e81e",
   "metadata": {
    "jupyter": {
     "source_hidden": true
    }
   },
   "source": [
    "### Q:Calling a JSON API\n",
    "\n",
    "In this assignment you will write a Python program somewhat similar to http://www.py4e.com/code3/opengeo.py. The program will prompt for a location, contact a web service and retrieve JSON for the web service and parse that data, and retrieve the first plus_code from the JSON. An Open Location Code is a textual identifier that is another form of address based on the location of the address.\n",
    "API End Points\n",
    "\n",
    "To complete this assignment, you should use this API endpoint that has a static subset of the Open Street Map Data.\n",
    "\n",
    "http://py4e-data.dr-chuck.net/opengeo?\n",
    "This API also has no rate limit so you can test as often as you like. If you visit the URL with no parameters, you get \"No address...\" response.\n",
    "To call the API, you need to provide the address that you are requesting as the q= parameter that is properly URL encoded using the urllib.parse.urlencode() function as shown in http://www.py4e.com/code3/opengeo.py\n",
    "\n",
    "\n",
    "Test Data / Sample Execution\n",
    "\n",
    "You can test to see if your program is working with a location of \"South Federal University\" which will have a plus_code of \"6FV8QPRJ+VQ\".\n",
    "\n",
    "$ python solution.py\n",
    "Enter location: South Federal University\n",
    "Retrieving http://...\n",
    "Retrieved 1329 characters\n",
    "Plus code 6FV8QPRJ+VQ\n",
    "Turn In\n",
    "\n",
    "Please run your program to find the plus_code for this location:\n",
    "\n",
    "University of Pretoria\n",
    "Make sure to enter the name and case exactly as above and enter the plus_code and your Python code below. Hint: The first five characters of the plus_code are \"5G6C6 ...\"\n",
    "Make sure to retreive the data from the URL specified above and not the normal Google API. Your program should work with the Google API - but the plus_code may not match for this assignment."
   ]
  },
  {
   "cell_type": "code",
   "execution_count": 9,
   "id": "a2c1c349-2359-4f72-8588-d245c643a30f",
   "metadata": {
    "collapsed": true,
    "jupyter": {
     "outputs_hidden": true,
     "source_hidden": true
    }
   },
   "outputs": [
    {
     "name": "stdin",
     "output_type": "stream",
     "text": [
      "Enter location: University of Pretoria\n"
     ]
    },
    {
     "name": "stdout",
     "output_type": "stream",
     "text": [
      "Retrieving https://py4e-data.dr-chuck.net/opengeo?q=University+of+Pretoria\n",
      "Retrieved 1619 characters\n",
      "Plus code 5G6C66WJ+78\n"
     ]
    }
   ],
   "source": [
    "import urllib.request, urllib.parse\n",
    "import json, ssl\n",
    "\n",
    "serviceurl = 'https://py4e-data.dr-chuck.net/opengeo?'\n",
    "\n",
    "ctx = ssl.create_default_context()\n",
    "ctx.check_hostname = False\n",
    "ctx.verify_mode = ssl.CERT_NONE\n",
    "\n",
    "while True:\n",
    "    address = input('Enter location:')\n",
    "    if len(address) < 1: break\n",
    "\n",
    "    address = address.strip()\n",
    "    parms = dict()\n",
    "    parms['q'] = address\n",
    "\n",
    "    url = serviceurl + urllib.parse.urlencode(parms)\n",
    "\n",
    "    print('Retrieving', url)\n",
    "    uh = urllib.request.urlopen(url, context=ctx)\n",
    "    data = uh.read().decode()\n",
    "    print('Retrieved', len(data), 'characters')\n",
    "\n",
    "    try:\n",
    "        js = json.loads(data)\n",
    "    except:\n",
    "        js = None\n",
    "\n",
    "    if not js or 'features' not in js:\n",
    "        print('==== Download error ===')\n",
    "        print(data)\n",
    "        break\n",
    "\n",
    "    if len(js['features']) == 0:\n",
    "        print('==== Object not found ====')\n",
    "        print(data)\n",
    "        break\n",
    "\n",
    "    location = js['features'][0]['properties']['plus_code']\n",
    "    print('Plus code',location)\n",
    "    break"
   ]
  }
 ],
 "metadata": {
  "kernelspec": {
   "display_name": "Python 3 (ipykernel)",
   "language": "python",
   "name": "python3"
  },
  "language_info": {
   "codemirror_mode": {
    "name": "ipython",
    "version": 3
   },
   "file_extension": ".py",
   "mimetype": "text/x-python",
   "name": "python",
   "nbconvert_exporter": "python",
   "pygments_lexer": "ipython3",
   "version": "3.13.3"
  }
 },
 "nbformat": 4,
 "nbformat_minor": 5
}
